{
 "cells": [
  {
   "cell_type": "markdown",
   "metadata": {},
   "source": [
    "## (a)"
   ]
  },
  {
   "cell_type": "markdown",
   "metadata": {},
   "source": [
    "\\begin{align*}\n",
    "H_{ij} = \\frac{\\partial J}{\\partial \\theta_i \\partial \\theta_j} \n",
    "&= \\frac{1}{m} \\sum_{k=1}^{m} \\frac{\\partial (g(z)  - 1)}{\\partial \\theta_j} y^{(k)} x_i^{(k)} \\\\\n",
    "&= \\frac{1}{m} \\sum_{k=1}^{m} \\frac {\\partial g(z)}{\\partial \\theta_j} y^{(k)} x_i^{(k)} \\\\\n",
    "&= \\frac{1}{m} \\sum_{k=1}^{m} g(z)(1 - g(z)) \\frac{\\partial z}{\\partial \\theta_j} y^{(k)} x_i^{(k)} \\\\\n",
    "&= \\frac{1}{m} \\sum_{k=1}^{m} g(z)(1 - g(z)) y^{(k)} x_j^{(k)} y^{(k)} x_i^{(k)} \\\\\n",
    "&= \\frac{1}{m} \\sum_{k=1}^{m} g(z)(1 - g(z)) x_i^{(k)} x_j^{(k)} \\\\\n",
    "\\end{align*}"
   ]
  },
  {
   "cell_type": "markdown",
   "metadata": {},
   "source": [
    "## (b)"
   ]
  },
  {
   "cell_type": "code",
   "execution_count": 1,
   "metadata": {
    "collapsed": true
   },
   "outputs": [],
   "source": [
    "import numpy as np\n",
    "import pandas as pd\n",
    "import matplotlib.pyplot as plt\n",
    "\n",
    "%matplotlib inline"
   ]
  },
  {
   "cell_type": "code",
   "execution_count": 43,
   "metadata": {},
   "outputs": [
    {
     "name": "stdout",
     "output_type": "stream",
     "text": [
      "(99, 2) (99, 1)\n"
     ]
    }
   ],
   "source": [
    "X = pd.read_csv('http://cs229.stanford.edu/ps/ps1/logistic_x.txt',header=None,delim_whitespace=True,dtype=np.float32)\n",
    "y = pd.read_csv('http://cs229.stanford.edu/ps/ps1/logistic_y.txt',header=None,delim_whitespace=True,dtype=np.int32)\n",
    "print(X.shape, y.shape)"
   ]
  },
  {
   "cell_type": "code",
   "execution_count": 44,
   "metadata": {},
   "outputs": [
    {
     "data": {
      "text/plain": [
       "<matplotlib.axes._subplots.AxesSubplot at 0x116936748>"
      ]
     },
     "execution_count": 44,
     "metadata": {},
     "output_type": "execute_result"
    },
    {
     "data": {
      "image/png": "[encoded data removed]",
      "text/plain": [
       "<matplotlib.figure.Figure at 0x1168ddf28>"
      ]
     },
     "metadata": {},
     "output_type": "display_data"
    }
   ],
   "source": [
    "ax = plt.axes()\n",
    "X.loc[y_train[0]==1].plot.scatter(0,1,c='red',ax=ax)\n",
    "X.loc[y_train[0]==-1].plot.scatter(0,1,c='green',ax=ax)"
   ]
  },
  {
   "cell_type": "code",
   "execution_count": 59,
   "metadata": {
    "collapsed": true
   },
   "outputs": [],
   "source": [
    "X_train = X.values\n",
    "y_train = y.values.reshape(-1)"
   ]
  },
  {
   "cell_type": "code",
   "execution_count": 60,
   "metadata": {},
   "outputs": [],
   "source": [
    "# add intercept term placeholder\n",
    "X_train = np.concatenate([X_train,np.ones((X_train.shape[0],1))],axis=1)"
   ]
  },
  {
   "cell_type": "code",
   "execution_count": 71,
   "metadata": {},
   "outputs": [
    {
     "data": {
      "text/plain": [
       "0.0"
      ]
     },
     "execution_count": 71,
     "metadata": {},
     "output_type": "execute_result"
    }
   ],
   "source": [
    "np.mean(g * (1-g) * X_train[:,i] * X_train[:,j])"
   ]
  },
  {
   "cell_type": "code",
   "execution_count": 76,
   "metadata": {},
   "outputs": [
    {
     "data": {
      "text/plain": [
       "3"
      ]
     },
     "execution_count": 76,
     "metadata": {},
     "output_type": "execute_result"
    }
   ],
   "source": [
    "step_cnt"
   ]
  },
  {
   "cell_type": "code",
   "execution_count": 94,
   "metadata": {},
   "outputs": [
    {
     "name": "stdout",
     "output_type": "stream",
     "text": [
      "99 3\n",
      "converged after 7 iterations\n"
     ]
    }
   ],
   "source": [
    "tol = 1e9\n",
    "threshold = 1e-6\n",
    "n_samples, n_features = X_train.shape\n",
    "print(n_samples, n_features)\n",
    "# feature vector's size\n",
    "theta = np.zeros(n_features)\n",
    "theta_history = []\n",
    "step_cnt = 0\n",
    "while tol > threshold:\n",
    "    # 计算Logistic regression\n",
    "    z = y_train * X_train.dot(theta)\n",
    "    g = 1 / (1 + np.exp(-z))\n",
    "    # 计算Loss的梯度\n",
    "    loss_delta = np.mean((g - 1) * y_train * X_train.T, axis=1)\n",
    "\n",
    "    hessian = np.zeros((n_features,n_features))\n",
    "    for i in range(n_features):\n",
    "        for j in range(n_features):\n",
    "            if i <= j :\n",
    "                hessian[i,j] = np.mean(g * (1-g) * X_train[:,i] * X_train[:,j])\n",
    "                if i != j:\n",
    "                    hessian[j,i] = hessian[i,j]\n",
    "    \n",
    "    p = - np.linalg.inv(hessian).dot(loss_delta)\n",
    "    old_theta = theta.copy()\n",
    "    theta += p\n",
    "    \n",
    "    theta_history.append(theta)\n",
    "    step_cnt += 1\n",
    "    tol = np.sum(np.abs(theta - old_theta))\n",
    "print('converged after {0} iterations'.format(step_cnt))"
   ]
  },
  {
   "cell_type": "code",
   "execution_count": 98,
   "metadata": {},
   "outputs": [
    {
     "data": {
      "text/plain": [
       "<matplotlib.legend.Legend at 0x116874860>"
      ]
     },
     "execution_count": 98,
     "metadata": {},
     "output_type": "execute_result"
    },
    {
     "data": {
      "image/png": "[encoded data removed]",
      "text/plain": [
       "<matplotlib.figure.Figure at 0x1172613c8>"
      ]
     },
     "metadata": {},
     "output_type": "display_data"
    }
   ],
   "source": [
    "ax = plt.axes()\n",
    "X.loc[y_train==1].plot.scatter(0,1,c='red',ax=ax)\n",
    "X.loc[y_train==-1].plot.scatter(0,1,c='green',ax=ax)\n",
    "\n",
    "_xs = np.array([np.min(X_train[:,0]), np.max(X_train[:,0])])\n",
    "for k, theta in enumerate(theta_history):\n",
    "    _ys = (theta[2] + theta[0] * _xs) / (- theta[1])\n",
    "    plt.plot(_xs, _ys, label='iter {0}'.format(k + 1), lw=0.5)\n",
    "plt.legend(bbox_to_anchor=(1.04,1), loc=\"upper left\")"
   ]
  },
  {
   "cell_type": "code",
   "execution_count": 83,
   "metadata": {},
   "outputs": [
    {
     "data": {
      "text/plain": [
       "array([-4.00650358,  3.8128655 ])"
      ]
     },
     "execution_count": 83,
     "metadata": {},
     "output_type": "execute_result"
    }
   ],
   "source": [
    "_xs"
   ]
  },
  {
   "cell_type": "code",
   "execution_count": null,
   "metadata": {
    "collapsed": true
   },
   "outputs": [],
   "source": []
  }
 ],
 "metadata": {
  "kernelspec": {
   "display_name": "Python 3",
   "language": "python",
   "name": "python3"
  },
  "language_info": {
   "codemirror_mode": {
    "name": "ipython",
    "version": 3
   },
   "file_extension": ".py",
   "mimetype": "text/x-python",
   "name": "python",
   "nbconvert_exporter": "python",
   "pygments_lexer": "ipython3",
   "version": "3.6.1"
  }
 },
 "nbformat": 4,
 "nbformat_minor": 2
}
